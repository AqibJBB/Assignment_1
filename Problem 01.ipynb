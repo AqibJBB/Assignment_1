{
 "cells": [
  {
   "cell_type": "markdown",
   "id": "7704cb06",
   "metadata": {},
   "source": [
    "Author: Aqib Javaid,\n",
    "Reg. No. 2019-EE-307,\n",
    "Course: Intro. to Machine Learning,\n",
    "Course Instructor: Sir. Umar Rashid"
   ]
  },
  {
   "cell_type": "code",
   "execution_count": 61,
   "id": "9c7c92bb",
   "metadata": {},
   "outputs": [],
   "source": [
    "import numpy as np\n",
    "from math import sqrt"
   ]
  },
  {
   "cell_type": "markdown",
   "id": "ff85acdc",
   "metadata": {},
   "source": [
    "# Regular (but poor) programming using loops"
   ]
  },
  {
   "cell_type": "code",
   "execution_count": 62,
   "id": "b2175510",
   "metadata": {},
   "outputs": [],
   "source": [
    "def euc_loops(X,Y):\n",
    "    Nx = X.shape[0]\n",
    "    dx = X.shape[1]\n",
    "    \n",
    "    Ny = Y.shape[0]\n",
    "    dy = Y.shape[1]\n",
    "    \n",
    "    #generating an empty matrix to store final values\n",
    "    E = np.zeros((Nx,Ny))\n",
    "    B = 0\n",
    "    \n",
    "    #computing euclidean Distances between matrices\n",
    "    for i in range(Nx):\n",
    "        for j in range(Ny):\n",
    "            for k in range(dx):\n",
    "                B += (X[i,k]-Y[j,k])**2\n",
    "            E[i,j] = sqrt(B)\n",
    "            B = 0\n",
    "            \n",
    "    return E        "
   ]
  },
  {
   "cell_type": "markdown",
   "id": "3e6a58c4",
   "metadata": {},
   "source": [
    "# Vectorized code "
   ]
  },
  {
   "cell_type": "code",
   "execution_count": 63,
   "id": "dbc928f8",
   "metadata": {},
   "outputs": [],
   "source": [
    "def euc_vec(X,Y):\n",
    "    return np.round(np.sqrt(np.sum(X**2, axis = 1) [:, np.newaxis] + np.sum(Y**2, axis = 1) + -2*np.dot(X,Y.T)),3)"
   ]
  },
  {
   "cell_type": "markdown",
   "id": "fbb6d19c",
   "metadata": {},
   "source": [
    "# Generating random sample and comparing running speed of both implementations"
   ]
  },
  {
   "cell_type": "code",
   "execution_count": 64,
   "id": "a9199aae",
   "metadata": {},
   "outputs": [
    {
     "name": "stdout",
     "output_type": "stream",
     "text": [
      "126 µs ± 5.8 µs per loop (mean ± std. dev. of 7 runs, 10,000 loops each)\n"
     ]
    },
    {
     "name": "stderr",
     "output_type": "stream",
     "text": [
      "C:\\Users\\drfak\\AppData\\Local\\Temp\\ipykernel_264\\764752884.py:2: RuntimeWarning: invalid value encountered in sqrt\n",
      "  return np.round(np.sqrt(np.sum(X**2, axis = 1) [:, np.newaxis] + np.sum(Y**2, axis = 1) + -2*np.dot(X,Y.T)),3)\n"
     ]
    },
    {
     "name": "stdout",
     "output_type": "stream",
     "text": [
      "29.8 µs ± 790 ns per loop (mean ± std. dev. of 7 runs, 10,000 loops each)\n",
      "0.0 nan\n",
      "Computation using loops:\n",
      "[[0.         3.69752382 2.61674959 3.47297239 4.60950226]\n",
      " [3.69752382 0.         4.23080991 5.21848596 2.80536939]\n",
      " [2.61674959 4.23080991 0.         2.63421457 3.94632403]\n",
      " [3.47297239 5.21848596 2.63421457 0.         5.20595263]\n",
      " [4.60950226 2.80536939 3.94632403 5.20595263 0.        ]]\n",
      "Computation using vectorization:\n",
      "[[0.    3.698 2.617 3.473 4.61 ]\n",
      " [3.698 0.    4.231 5.218 2.805]\n",
      " [2.617 4.231   nan 2.634 3.946]\n",
      " [3.473 5.218 2.634   nan 5.206]\n",
      " [4.61  2.805 3.946 5.206 0.   ]]\n"
     ]
    }
   ],
   "source": [
    "X = np.random.normal(size=(5,7))\n",
    "\n",
    "%timeit euc_loops(X,X)\n",
    "%timeit euc_vec(X,X)\n",
    "\n",
    "S1 = euc_loops(X,X)\n",
    "S2 = euc_vec(X,X)\n",
    "\n",
    "print( np.trace(S1), np.trace(S2))\n",
    "print(\"Computation using loops:\")\n",
    "print(S1)\n",
    "print(\"Computation using vectorization:\")\n",
    "print(S2)"
   ]
  },
  {
   "cell_type": "markdown",
   "id": "7db2604f",
   "metadata": {},
   "source": [
    "Summary:\n",
    "\n",
    "1. Vectorized code is much more concise and easier to read.\n",
    "2. Vectorization code is faster than loops (about 4-5 times faster, 126 µs vs 29.8 µs)"
   ]
  },
  {
   "cell_type": "code",
   "execution_count": null,
   "id": "178ee5cb",
   "metadata": {},
   "outputs": [],
   "source": []
  }
 ],
 "metadata": {
  "kernelspec": {
   "display_name": "Python 3 (ipykernel)",
   "language": "python",
   "name": "python3"
  },
  "language_info": {
   "codemirror_mode": {
    "name": "ipython",
    "version": 3
   },
   "file_extension": ".py",
   "mimetype": "text/x-python",
   "name": "python",
   "nbconvert_exporter": "python",
   "pygments_lexer": "ipython3",
   "version": "3.9.12"
  }
 },
 "nbformat": 4,
 "nbformat_minor": 5
}
